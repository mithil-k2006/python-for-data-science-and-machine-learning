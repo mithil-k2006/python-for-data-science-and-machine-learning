{
 "cells": [
  {
   "cell_type": "code",
   "execution_count": 1,
   "metadata": {},
   "outputs": [
    {
     "name": "stdout",
     "output_type": "stream",
     "text": [
      "cities with high temperatures (> 26°C):\n",
      "city B - 30°C\n",
      "city E - 28°C\n"
     ]
    }
   ],
   "source": [
    "climate_data = [\n",
    "    {\"city\" : \"city A\", \"temperature\":25, \"carbon_footprint\": 500},\n",
    "     {\"city\" : \"city B\", \"temperature\":30, \"carbon_footprint\": 350},\n",
    "     {\"city\" : \"city C\", \"temperature\":22, \"carbon_footprint\": 600},\n",
    "     {\"city\" : \"city D\", \"temperature\":15, \"carbon_footprint\": 200},\n",
    "     {\"city\" : \"city E\", \"temperature\":28, \"carbon_footprint\": 450},\n",
    "    ]\n",
    "high_temp_threshold = 26\n",
    "high_temp_cities = [city for city in climate_data if city[\"temperature\"]>high_temp_threshold]\n",
    "print(\"cities with high temperatures (> 26°C):\")\n",
    "for city in high_temp_cities:\n",
    "    print(f\"{city['city']} - {city['temperature']}°C\")"
   ]
  },
  {
   "cell_type": "code",
   "execution_count": 3,
   "metadata": {},
   "outputs": [
    {
     "name": "stdout",
     "output_type": "stream",
     "text": [
      "\n",
      "Average Carbon Footprint: 100.000000 kg co2\n",
      "\n",
      "Average Carbon Footprint: 170.000000 kg co2\n",
      "\n",
      "Average Carbon Footprint: 290.000000 kg co2\n",
      "\n",
      "Average Carbon Footprint: 330.000000 kg co2\n",
      "\n",
      "Average Carbon Footprint: 420.000000 kg co2\n"
     ]
    }
   ],
   "source": [
    "total_carbon = 0\n",
    "for city in climate_data:\n",
    "    total_carbon += city[\"carbon_footprint\"]\n",
    "    average_carbon_footprint = total_carbon / len(climate_data)\n",
    "    print(f\"\\nAverage Carbon Footprint: {average_carbon_footprint:2f} kg co2\")"
   ]
  },
  {
   "cell_type": "code",
   "execution_count": 6,
   "metadata": {},
   "outputs": [
    {
     "name": "stdout",
     "output_type": "stream",
     "text": [
      "\n",
      " Sustainable cities (carbon footprint <400 kg co2):\n",
      "city A - 500 kg co2\n",
      "city C - 600 kg co2\n",
      "city E - 450 kg co2\n"
     ]
    }
   ],
   "source": [
    "sustainability_threshold_threshold_threshold = 400\n",
    "sustainable_cities = list(filter(lambda city: city[\"carbon_footprint\"]>sustainability_threshold,climate_data))\n",
    "print(\"\\n Sustainable cities (carbon footprint <400 kg co2):\")\n",
    "for city in sustainable_cities:\n",
    "    print(f\"{city['city']} - {city['carbon_footprint']} kg co2\")"
   ]
  },
  {
   "cell_type": "code",
   "execution_count": 8,
   "metadata": {},
   "outputs": [
    {
     "name": "stdout",
     "output_type": "stream",
     "text": [
      "\n",
      "cifty with the highest carbon footprint: \n",
      "highest_footprint_city['city']) - 600 kg co2\n"
     ]
    }
   ],
   "source": [
    "highest_footprint_city = max(climate_data, key=lambda\n",
    "                            city: city[\"carbon_footprint\"])\n",
    "print(f\"\\ncifty with the highest carbon footprint: \")\n",
    "print(f\"highest_footprint_city['city']) - {highest_footprint_city['carbon_footprint']} kg co2\")"
   ]
  },
  {
   "cell_type": "code",
   "execution_count": null,
   "metadata": {},
   "outputs": [],
   "source": []
  }
 ],
 "metadata": {
  "kernelspec": {
   "display_name": "Python 3",
   "language": "python",
   "name": "python3"
  },
  "language_info": {
   "codemirror_mode": {
    "name": "ipython",
    "version": 3
   },
   "file_extension": ".py",
   "mimetype": "text/x-python",
   "name": "python",
   "nbconvert_exporter": "python",
   "pygments_lexer": "ipython3",
   "version": "3.7.3"
  }
 },
 "nbformat": 4,
 "nbformat_minor": 2
}
