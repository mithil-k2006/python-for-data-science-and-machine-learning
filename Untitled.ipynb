{
 "cells": [
  {
   "cell_type": "code",
   "execution_count": 7,
   "metadata": {},
   "outputs": [
    {
     "name": "stdout",
     "output_type": "stream",
     "text": [
      "city name: city A\n"
     ]
    }
   ],
   "source": [
    "city_name = \"city A\"\n",
    "print(f\"city name:\",city_name)\n"
   ]
  },
  {
   "cell_type": "code",
   "execution_count": 13,
   "metadata": {},
   "outputs": [
    {
     "name": "stdout",
     "output_type": "stream",
     "text": [
      "Temperature: 25°c\n"
     ]
    }
   ],
   "source": [
    "temperature = 25\n",
    "print(f\"Temperature: {temperature}°c\")"
   ]
  },
  {
   "cell_type": "code",
   "execution_count": 14,
   "metadata": {},
   "outputs": [
    {
     "name": "stdout",
     "output_type": "stream",
     "text": [
      "Carbon footprint: 500.75 kg co2\n"
     ]
    },
    {
     "data": {
      "text/plain": [
       "float"
      ]
     },
     "execution_count": 14,
     "metadata": {},
     "output_type": "execute_result"
    }
   ],
   "source": [
    "carbon_footprint = 500.75 # kg co2\n",
    "print(f\"Carbon footprint: {carbon_footprint} kg co2\")\n",
    "type(carbon_footprint)"
   ]
  },
  {
   "cell_type": "code",
   "execution_count": 17,
   "metadata": {},
   "outputs": [
    {
     "name": "stdout",
     "output_type": "stream",
     "text": [
      "Is the city sustainbale? False\n"
     ]
    }
   ],
   "source": [
    "is_sustainable = carbon_footprint<400\n",
    "print(f\"Is the city sustainbale? {is_sustainable}\")"
   ]
  },
  {
   "cell_type": "code",
   "execution_count": 21,
   "metadata": {},
   "outputs": [
    {
     "name": "stdout",
     "output_type": "stream",
     "text": [
      "weekly temperatures: [25, 27, 28, 26, 24, 30, 29]\n"
     ]
    }
   ],
   "source": [
    "weekly_temperatures = [25,27,28,26,24,30,29]\n",
    "print(f\"weekly temperatures: {weekly_temperatures}\")"
   ]
  },
  {
   "cell_type": "code",
   "execution_count": 12,
   "metadata": {},
   "outputs": [
    {
     "name": "stdout",
     "output_type": "stream",
     "text": [
      "city data: {'name': 'city A', 'temperatures': 25, 'carbon_footprint': 500.75, 'is_sustainable': False}\n"
     ]
    }
   ],
   "source": [
    "city_data = {\n",
    "    \"name\" : \"city A\",\n",
    "    \"temperatures\" : 25,\n",
    "    \"carbon_footprint\" : 500.75,\n",
    "    \"is_sustainable\" : False\n",
    "    }\n",
    "print(f\"city data: {city_data}\")"
   ]
  },
  {
   "cell_type": "code",
   "execution_count": 14,
   "metadata": {},
   "outputs": [
    {
     "name": "stdout",
     "output_type": "stream",
     "text": [
      "City Name: City B, Temperature: 30, Carbon Footprint: 350.5 kg co2\n"
     ]
    }
   ],
   "source": [
    "city_name, temperature, carbon_footprint = \"City B\", 30, 350.50\n",
    "print(f\"City Name: {city_name}, Temperature: {temperature}, Carbon Footprint: {carbon_footprint} kg co2\")"
   ]
  },
  {
   "cell_type": "code",
   "execution_count": null,
   "metadata": {},
   "outputs": [],
   "source": []
  }
 ],
 "metadata": {
  "kernelspec": {
   "display_name": "Python 3",
   "language": "python",
   "name": "python3"
  },
  "language_info": {
   "codemirror_mode": {
    "name": "ipython",
    "version": 3
   },
   "file_extension": ".py",
   "mimetype": "text/x-python",
   "name": "python",
   "nbconvert_exporter": "python",
   "pygments_lexer": "ipython3",
   "version": "3.7.3"
  }
 },
 "nbformat": 4,
 "nbformat_minor": 2
}
