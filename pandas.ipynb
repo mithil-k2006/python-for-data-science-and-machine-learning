{
 "cells": [
  {
   "cell_type": "code",
   "execution_count": 11,
   "metadata": {},
   "outputs": [
    {
     "ename": "NameError",
     "evalue": "name 'calculate_carbon_footprint' is not defined",
     "output_type": "error",
     "traceback": [
      "\u001b[1;31m---------------------------------------------------------------------------\u001b[0m",
      "\u001b[1;31mNameError\u001b[0m                                 Traceback (most recent call last)",
      "\u001b[1;32m<ipython-input-11-8c90f1609b9f>\u001b[0m in \u001b[0;36m<module>\u001b[1;34m\u001b[0m\n\u001b[0;32m      1\u001b[0m \u001b[0menergy_consumption\u001b[0m \u001b[1;33m=\u001b[0m \u001b[1;36m1000\u001b[0m\u001b[1;33m\u001b[0m\u001b[1;33m\u001b[0m\u001b[0m\n\u001b[0;32m      2\u001b[0m \u001b[0memission_factor\u001b[0m \u001b[1;33m=\u001b[0m \u001b[1;36m0.475\u001b[0m\u001b[1;33m\u001b[0m\u001b[1;33m\u001b[0m\u001b[0m\n\u001b[1;32m----> 3\u001b[1;33m \u001b[0mcarbon_footprint\u001b[0m \u001b[1;33m=\u001b[0m \u001b[0mcalculate_carbon_footprint\u001b[0m\u001b[1;33m(\u001b[0m\u001b[0menergy_consumption\u001b[0m\u001b[1;33m,\u001b[0m\u001b[0memission_factor\u001b[0m\u001b[1;33m)\u001b[0m\u001b[1;33m\u001b[0m\u001b[1;33m\u001b[0m\u001b[0m\n\u001b[0m\u001b[0;32m      4\u001b[0m \u001b[0mprint\u001b[0m\u001b[1;33m(\u001b[0m\u001b[1;34mf\"carbon footprint:{carbon_footprint} kg co2\"\u001b[0m\u001b[1;33m)\u001b[0m\u001b[1;33m\u001b[0m\u001b[1;33m\u001b[0m\u001b[0m\n",
      "\u001b[1;31mNameError\u001b[0m: name 'calculate_carbon_footprint' is not defined"
     ]
    }
   ],
   "source": [
    "energy_consumption = 1000 \n",
    "emission_factor = 0.475\n",
    "carbon_footprint = calculate_carbon_footprint(energy_consumption,emission_factor)\n",
    "print(f\"carbon footprint:{carbon_footprint} kg co2\")"
   ]
  },
  {
   "cell_type": "code",
   "execution_count": null,
   "metadata": {},
   "outputs": [],
   "source": [
    "pip install pandas numpy"
   ]
  },
  {
   "cell_type": "code",
   "execution_count": 4,
   "metadata": {},
   "outputs": [],
   "source": [
    "import pandas as pd\n",
    "renewable_sources = [\"solar\" , \"wind\",\"hydropower\" , \"goethermal\" , \"biomass\"]\n",
    "data={\n",
    "    \"project\":[\"solar farm a\",\"wind turbine x\",\"hydropowry\",\"solar roof z\",\"geothermal plant p\"],\n",
    "    \"technology\":[\"solar\",\"wind\",\"hyprowery\",\"solar\",\"geothermal\"],\n",
    "    \"capacity (mw)\":[150,300,200,50,100],\n",
    "    \"cost (million $)\":[200,400,350,100,250],\n",
    "    \"location\":[\"california\",\"texas\",\"washington\",\"nevada\",\" idaho\"],\n",
    "    \"completion year\":[2023,2024,2022,2025,2023]\n",
    "}"
   ]
  },
  {
   "cell_type": "code",
   "execution_count": 3,
   "metadata": {},
   "outputs": [
    {
     "name": "stdout",
     "output_type": "stream",
     "text": [
      "renewable energy sources:\n",
      "0         solar\n",
      "1          wind\n",
      "2    hydropower\n",
      "3    goethermal\n",
      "4       biomass\n",
      "dtype: object\n"
     ]
    }
   ],
   "source": [
    "renewable_series = pd.Series(renewable_sources)\n",
    "print(\"renewable energy sources:\")\n",
    "print(renewable_series)"
   ]
  },
  {
   "cell_type": "code",
   "execution_count": 5,
   "metadata": {},
   "outputs": [
    {
     "name": "stdout",
     "output_type": "stream",
     "text": [
      "\n",
      "green technology projectsn DataFrame:\n",
      "              project  technology  capacity (mw)  cost (million $)  \\\n",
      "0        solar farm a       solar            150               200   \n",
      "1      wind turbine x        wind            300               400   \n",
      "2          hydropowry   hyprowery            200               350   \n",
      "3        solar roof z       solar             50               100   \n",
      "4  geothermal plant p  geothermal            100               250   \n",
      "\n",
      "     location  completion year  \n",
      "0  california             2023  \n",
      "1       texas             2024  \n",
      "2  washington             2022  \n",
      "3      nevada             2025  \n",
      "4       idaho             2023  \n"
     ]
    }
   ],
   "source": [
    "projects_df = pd.DataFrame(data)\n",
    "print(\"\\ngreen technology projectsn DataFrame:\")\n",
    "print(projects_df)"
   ]
  },
  {
   "cell_type": "code",
   "execution_count": 6,
   "metadata": {},
   "outputs": [
    {
     "name": "stdout",
     "output_type": "stream",
     "text": [
      "\n",
      "list of projects:\n",
      "0          solar farm a\n",
      "1        wind turbine x\n",
      "2            hydropowry\n",
      "3          solar roof z\n",
      "4    geothermal plant p\n",
      "Name: project, dtype: object\n"
     ]
    }
   ],
   "source": [
    "print(\"\\nlist of projects:\")\n",
    "print(projects_df[\"project\"])"
   ]
  },
  {
   "cell_type": "code",
   "execution_count": 7,
   "metadata": {},
   "outputs": [
    {
     "name": "stdout",
     "output_type": "stream",
     "text": [
      "\n",
      "list of capacity (mw):\n",
      "0    150\n",
      "1    300\n",
      "2    200\n",
      "3     50\n",
      "4    100\n",
      "Name: capacity (mw), dtype: int64\n"
     ]
    }
   ],
   "source": [
    "print(\"\\nlist of capacity (mw):\")\n",
    "print(projects_df[\"capacity (mw)\"])"
   ]
  },
  {
   "cell_type": "code",
   "execution_count": 8,
   "metadata": {},
   "outputs": [
    {
     "name": "stdout",
     "output_type": "stream",
     "text": [
      "\n",
      " projects with capacity greater than 100 mw:\n",
      "          project technology  capacity (mw)  cost (million $)    location  \\\n",
      "0    solar farm a      solar            150               200  california   \n",
      "1  wind turbine x       wind            300               400       texas   \n",
      "2      hydropowry  hyprowery            200               350  washington   \n",
      "\n",
      "   completion year  \n",
      "0             2023  \n",
      "1             2024  \n",
      "2             2022  \n"
     ]
    }
   ],
   "source": [
    "high_capacity_projects = projects_df[projects_df[\"capacity (mw)\"]>100]\n",
    "print(\"\\n projects with capacity greater than 100 mw:\")\n",
    "print(high_capacity_projects)\n"
   ]
  },
  {
   "cell_type": "code",
   "execution_count": 9,
   "metadata": {},
   "outputs": [
    {
     "name": "stdout",
     "output_type": "stream",
     "text": [
      "\n",
      " dataframe with cost per mw:\n",
      "              project  technology  capacity (mw)  cost (million $)  \\\n",
      "0        solar farm a       solar            150               200   \n",
      "1      wind turbine x        wind            300               400   \n",
      "2          hydropowry   hyprowery            200               350   \n",
      "3        solar roof z       solar             50               100   \n",
      "4  geothermal plant p  geothermal            100               250   \n",
      "\n",
      "     location  completion year  cost per mw  \n",
      "0  california             2023     1.333333  \n",
      "1       texas             2024     1.333333  \n",
      "2  washington             2022     1.750000  \n",
      "3      nevada             2025     2.000000  \n",
      "4       idaho             2023     2.500000  \n"
     ]
    }
   ],
   "source": [
    "projects_df[\"cost per mw\"]=projects_df[\"cost (million $)\"]/projects_df[\"capacity (mw)\"]\n",
    "print(\"\\n dataframe with cost per mw:\")\n",
    "print(projects_df)"
   ]
  },
  {
   "cell_type": "code",
   "execution_count": 10,
   "metadata": {},
   "outputs": [
    {
     "name": "stdout",
     "output_type": "stream",
     "text": [
      "\n",
      " total capacity of all projects: 800mw\n",
      "total cost of all projects: $1300million\n"
     ]
    }
   ],
   "source": [
    "total_capacity = projects_df[\"capacity (mw)\"].sum()\n",
    "total_cost = projects_df[\"cost (million $)\"].sum()\n",
    "print(f\"\\n total capacity of all projects: {total_capacity}mw\")\n",
    "print(f\"total cost of all projects: ${total_cost}million\")"
   ]
  },
  {
   "cell_type": "code",
   "execution_count": 15,
   "metadata": {},
   "outputs": [
    {
     "name": "stdout",
     "output_type": "stream",
     "text": [
      "\n",
      " total capacity by technology:\n",
      "technology\n",
      "geothermal    100\n",
      "hyprowery     200\n",
      "solar         200\n",
      "wind          300\n",
      "Name: capacity (mw), dtype: int64\n"
     ]
    }
   ],
   "source": [
    "grouped_data = projects_df.groupby(\"technology\")[\"capacity (mw)\"].sum()\n",
    "print(\"\\n total capacity by technology:\")\n",
    "print(grouped_data)"
   ]
  },
  {
   "cell_type": "code",
   "execution_count": null,
   "metadata": {},
   "outputs": [],
   "source": []
  }
 ],
 "metadata": {
  "kernelspec": {
   "display_name": "Python 3",
   "language": "python",
   "name": "python3"
  },
  "language_info": {
   "codemirror_mode": {
    "name": "ipython",
    "version": 3
   },
   "file_extension": ".py",
   "mimetype": "text/x-python",
   "name": "python",
   "nbconvert_exporter": "python",
   "pygments_lexer": "ipython3",
   "version": "3.7.3"
  }
 },
 "nbformat": 4,
 "nbformat_minor": 2
}
